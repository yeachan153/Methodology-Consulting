{
 "cells": [
  {
   "cell_type": "markdown",
   "metadata": {},
   "source": [
    "# Deducing Mandatory Courses using most common courses per specialisation (Only MSc students since RMes student specialisations are not recorded)"
   ]
  },
  {
   "cell_type": "markdown",
   "metadata": {},
   "source": [
    "## Importing libraries/custom functions/data (PRE 2014)"
   ]
  },
  {
   "cell_type": "code",
   "execution_count": 1,
   "metadata": {},
   "outputs": [],
   "source": [
    "import os\n",
    "import pandas as pd\n",
    "import numpy as np\n",
    "import matplotlib.pyplot as plt\n",
    "import seaborn as sns\n",
    "from scipy import stats\n",
    "import copy\n",
    "from datetime import datetime\n",
    "import itertools\n",
    "from collections import Counter\n",
    "\n",
    "def to_strptime(string):\n",
    "    try:\n",
    "        return datetime.strptime(string, \"%Y-%m-%d\")\n",
    "    except Exception as e:\n",
    "        print(e)\n",
    "\n",
    "os.chdir('C:\\\\Users\\\\yeachan153\\\\Desktop\\\\Methodology-Consulting\\\\Project')\n",
    "data = pd.read_csv('Master Dataframe.csv')\n",
    "data = data[data['Description'] == 'M Psychologie']\n",
    "data['Start Date'] = data['Start Date'].apply(to_strptime)\n",
    "\n",
    "filter_14 = datetime.strptime('2014-09-01', \"%Y-%m-%d\")\n",
    "data = data[data['Start Date'] < filter_14]"
   ]
  },
  {
   "cell_type": "markdown",
   "metadata": {},
   "source": [
    "## Deducing Mandatory Courses (PRE 2014)"
   ]
  },
  {
   "cell_type": "code",
   "execution_count": 2,
   "metadata": {},
   "outputs": [],
   "source": [
    "unique_spec = list(set(data['Specialisation']))\n",
    "unique_spec = list(filter(lambda x: str(x) != 'nan', unique_spec))\n",
    "dict1 = {}\n",
    "grouped = data.groupby('Specialisation')\n",
    "\n",
    "for each_specialisation in unique_spec:\n",
    "    current_spec = grouped.get_group(each_specialisation)\n",
    "    dict1[each_specialisation] = Counter()\n",
    "    for idx, row in current_spec.iterrows():\n",
    "        courses_taken_grades = row.iloc[14:][row.iloc[14:].notnull()]\n",
    "        courses_taken = list(set(courses_taken_grades.index))\n",
    "        for each_course in courses_taken:\n",
    "            dict1[each_specialisation].update([each_course])"
   ]
  },
  {
   "cell_type": "markdown",
   "metadata": {},
   "source": [
    "#### Spec Work & Organ. Psychology "
   ]
  },
  {
   "cell_type": "code",
   "execution_count": 3,
   "metadata": {},
   "outputs": [
    {
     "name": "stdout",
     "output_type": "stream",
     "text": [
      "143 students\n"
     ]
    },
    {
     "data": {
      "text/plain": [
       "[('Masterthese A&O', 139),\n",
       " ('Masterstage A&O', 138),\n",
       " ('Schr./Onderz./An./Pres', 129),\n",
       " ('Mastertheseconcept A&O', 118),\n",
       " ('Adviesvaardigheden', 66),\n",
       " ('Creativiteit in Organisaties', 65),\n",
       " ('Conflict en Coöperatie', 64),\n",
       " ('Beoord. & Besliss. in Org.', 55),\n",
       " ('Personeelsselectie', 48),\n",
       " ('Prosoc. Gedr. Organ. (HRM)', 29)]"
      ]
     },
     "execution_count": 3,
     "metadata": {},
     "output_type": "execute_result"
    }
   ],
   "source": [
    "print(str(len(grouped.get_group('Spec Work & Organ. Psychology'))) + ' students')\n",
    "dict1['Spec Work & Organ. Psychology'].most_common(10)"
   ]
  },
  {
   "cell_type": "markdown",
   "metadata": {},
   "source": [
    "#### Spec Social Psychology"
   ]
  },
  {
   "cell_type": "code",
   "execution_count": 4,
   "metadata": {},
   "outputs": [
    {
     "name": "stdout",
     "output_type": "stream",
     "text": [
      "118 students\n"
     ]
    },
    {
     "data": {
      "text/plain": [
       "[('Masterthese Sociale Psych.', 115),\n",
       " ('Masterstage Sociale Psych.', 112),\n",
       " ('Recl.VL&Con', 87),\n",
       " ('Sociale psych. v. emoties', 78),\n",
       " ('TSP2: Interventies', 78),\n",
       " ('Mastertheseconcept SP', 54),\n",
       " ('Stereotypes, Prej & Discr', 43),\n",
       " ('Pro-Social Behavior & Volunt.', 40),\n",
       " ('Surveyonderz.: Ontw./Uitv.', 37),\n",
       " ('Cult.Psy: Emo, Cult & Lang', 22)]"
      ]
     },
     "execution_count": 4,
     "metadata": {},
     "output_type": "execute_result"
    }
   ],
   "source": [
    "print(str(len(grouped.get_group('Spec Social Psychology'))) + ' students')\n",
    "dict1['Spec Social Psychology'].most_common(10)"
   ]
  },
  {
   "cell_type": "markdown",
   "metadata": {},
   "source": [
    "#### Track Sport & Performance Psy"
   ]
  },
  {
   "cell_type": "code",
   "execution_count": 5,
   "metadata": {},
   "outputs": [
    {
     "name": "stdout",
     "output_type": "stream",
     "text": [
      "53 students\n"
     ]
    },
    {
     "data": {
      "text/plain": [
       "[('Onderz. Sport & Prest.Ps.', 53),\n",
       " ('Talent, Expertise & Creat.', 53),\n",
       " ('Interv. Sport & Prest.Psy', 52),\n",
       " ('Verdieping Sport/Prest. Psyc', 37),\n",
       " ('Masterstage Ontw. Psych.', 37),\n",
       " ('Mastertheseconcept KLOP', 23),\n",
       " ('Masterthese Ontw. Psych.', 21),\n",
       " ('Inl. Sport & Prestatiepsy.', 16),\n",
       " ('Masterthese A&O', 14),\n",
       " ('Masterthese Sociale Psych.', 12)]"
      ]
     },
     "execution_count": 5,
     "metadata": {},
     "output_type": "execute_result"
    }
   ],
   "source": [
    "print(str(len(grouped.get_group('Track Sport & Performance Psy'))) + ' students')\n",
    "dict1['Track Sport & Performance Psy'].most_common(10)"
   ]
  },
  {
   "cell_type": "markdown",
   "metadata": {},
   "source": [
    "#### General Psychology  "
   ]
  },
  {
   "cell_type": "code",
   "execution_count": 6,
   "metadata": {},
   "outputs": [
    {
     "name": "stdout",
     "output_type": "stream",
     "text": [
      "68 students\n"
     ]
    },
    {
     "data": {
      "text/plain": [
       "[('Collectieve Stagebijeenk.', 28),\n",
       " ('Praktijkstage Klin. Psy.', 24),\n",
       " ('Masterthese Klin. Psy.', 24),\n",
       " ('Pract. Klin.Psychodiagn.', 23),\n",
       " ('Masterthese A&O', 14),\n",
       " ('Mastertheseconcept A&O', 11),\n",
       " ('Masterstage Sociale Psych.', 10),\n",
       " ('Ontwikk. van Trainingen', 10),\n",
       " ('Trainerspracticum', 10),\n",
       " ('Masterthese Kli. Ontw. Ps.', 10)]"
      ]
     },
     "execution_count": 6,
     "metadata": {},
     "output_type": "execute_result"
    }
   ],
   "source": [
    "print(str(len(grouped.get_group('General Psychology'))) + ' students')\n",
    "dict1['General Psychology'].most_common(10)"
   ]
  },
  {
   "cell_type": "markdown",
   "metadata": {},
   "source": [
    "#### Track Training & Development "
   ]
  },
  {
   "cell_type": "code",
   "execution_count": 7,
   "metadata": {},
   "outputs": [
    {
     "name": "stdout",
     "output_type": "stream",
     "text": [
      "42 students\n"
     ]
    },
    {
     "data": {
      "text/plain": [
       "[('Ontwikk. van Trainingen', 41),\n",
       " ('Trainerspracticum', 41),\n",
       " ('Masterstage Sociale Psych.', 38),\n",
       " ('Masterthese Sociale Psych.', 30),\n",
       " ('Mastertheseconcept SP', 12),\n",
       " ('Recl.VL&Con', 11),\n",
       " ('Adviesvaardigheden', 8),\n",
       " ('Conflict en Coöperatie', 8),\n",
       " ('Sociale psych. v. emoties', 6),\n",
       " ('Coaching', 6)]"
      ]
     },
     "execution_count": 7,
     "metadata": {},
     "output_type": "execute_result"
    }
   ],
   "source": [
    "print(str(len(grouped.get_group('Track Training & Development'))) + ' students')\n",
    "dict1['Track Training & Development'].most_common(10)"
   ]
  },
  {
   "cell_type": "markdown",
   "metadata": {},
   "source": [
    "#### Track Behaviour & Health"
   ]
  },
  {
   "cell_type": "code",
   "execution_count": 8,
   "metadata": {},
   "outputs": [
    {
     "name": "stdout",
     "output_type": "stream",
     "text": [
      "41 students\n"
     ]
    },
    {
     "data": {
      "text/plain": [
       "[('Masterstage Gedr. & Gez.', 37),\n",
       " ('Gezondheidsbevordering & Inter', 36),\n",
       " ('Modellen van Gezondheidsgedrag', 33),\n",
       " ('Zelfregulatie Gez.gedrag', 33),\n",
       " ('Masterthese Gedr. & Gez.', 33),\n",
       " ('Sociale Invl. Gez.gedrag', 33),\n",
       " ('Mastertheseconcept GG', 25),\n",
       " ('Onderz.meth. Gezondheidsgedrag', 23),\n",
       " ('Thesebijeenk. Gez.gedr.', 22),\n",
       " ('Data-analyse Gezondheidsgedrag', 20)]"
      ]
     },
     "execution_count": 8,
     "metadata": {},
     "output_type": "execute_result"
    }
   ],
   "source": [
    "print(str(len(grouped.get_group('Track Behaviour & Health'))) + ' students')\n",
    "dict1['Track Behaviour & Health'].most_common(10)"
   ]
  },
  {
   "cell_type": "markdown",
   "metadata": {},
   "source": [
    "#### Spec Brain & Cognition"
   ]
  },
  {
   "cell_type": "code",
   "execution_count": 9,
   "metadata": {},
   "outputs": [
    {
     "name": "stdout",
     "output_type": "stream",
     "text": [
      "29 students\n"
     ]
    },
    {
     "data": {
      "text/plain": [
       "[('Masterstage Brein & Cognitie', 27),\n",
       " ('Masterthese Brein & Cognitie', 26),\n",
       " ('Mastertheseconcept B&C', 17),\n",
       " ('Adv. Topics Cogn. Neurosc.', 15),\n",
       " ('Psychofarmacologie', 14),\n",
       " ('Psycho-endocrinologie', 13),\n",
       " ('Toegep. Cognitieve Psych.', 10),\n",
       " ('Slaap/Waak Stoornissen', 9),\n",
       " ('Connectionistic Models', 8),\n",
       " ('Basic Affective Processes', 7)]"
      ]
     },
     "execution_count": 9,
     "metadata": {},
     "output_type": "execute_result"
    }
   ],
   "source": [
    "print(str(len(grouped.get_group('Spec Brain & Cognition'))) + ' students')\n",
    "dict1['Spec Brain & Cognition'].most_common(10)"
   ]
  },
  {
   "cell_type": "markdown",
   "metadata": {},
   "source": [
    "#### Track Clinical Forensic Psych"
   ]
  },
  {
   "cell_type": "code",
   "execution_count": 10,
   "metadata": {},
   "outputs": [
    {
     "name": "stdout",
     "output_type": "stream",
     "text": [
      "27 students\n"
     ]
    },
    {
     "data": {
      "text/plain": [
       "[('Praktijkstage Klin. Psy.', 26),\n",
       " ('Masterthese Klin. Psy.', 24),\n",
       " ('Collectieve Stagebijeenk.', 21),\n",
       " ('3 casussen Psychodiagn.', 17),\n",
       " ('Colloquia (master)', 16),\n",
       " ('Track Klin. For. Psy.', 14),\n",
       " ('St./Delictgedr: Behand.', 13),\n",
       " ('Stoorn./Delictgedr: Etiol.', 12),\n",
       " ('St.Delictg.: Ass./Risicot.', 12),\n",
       " ('Masterthese Kli. Ontw. Ps.', 2)]"
      ]
     },
     "execution_count": 10,
     "metadata": {},
     "output_type": "execute_result"
    }
   ],
   "source": [
    "print(str(len(grouped.get_group('Track Clinical Forensic Psych'))) + ' students')\n",
    "dict1['Track Clinical Forensic Psych'].most_common(10)"
   ]
  },
  {
   "cell_type": "markdown",
   "metadata": {},
   "source": [
    "#### Spec Clinical Psychology"
   ]
  },
  {
   "cell_type": "code",
   "execution_count": 11,
   "metadata": {},
   "outputs": [
    {
     "name": "stdout",
     "output_type": "stream",
     "text": [
      "20 students\n"
     ]
    },
    {
     "data": {
      "text/plain": [
       "[('Praktijkstage Klin. Psy.', 18),\n",
       " ('Collectieve Stagebijeenk.', 17),\n",
       " ('3 casussen Psychodiagn.', 15),\n",
       " ('Pract. Klin.Psychodiagn.', 14),\n",
       " ('Masterthese Klin. Psy.', 13),\n",
       " ('Psy. Interventies 2: Volw.', 8),\n",
       " ('Verslaving:Th./Behandeling', 6),\n",
       " ('Colloquia (master)', 5),\n",
       " ('Ps.Interv.2: relatie/gezin', 5),\n",
       " ('Masterthese Ontw. Psych.', 4)]"
      ]
     },
     "execution_count": 11,
     "metadata": {},
     "output_type": "execute_result"
    }
   ],
   "source": [
    "print(str(len(grouped.get_group('Spec Clinical Psychology'))) + ' students')\n",
    "dict1['Spec Clinical Psychology'].most_common(10)"
   ]
  },
  {
   "cell_type": "markdown",
   "metadata": {},
   "source": [
    "#### Spec Clinical Developmental Ps"
   ]
  },
  {
   "cell_type": "code",
   "execution_count": 12,
   "metadata": {},
   "outputs": [
    {
     "name": "stdout",
     "output_type": "stream",
     "text": [
      "12 students\n"
     ]
    },
    {
     "data": {
      "text/plain": [
       "[('Collectieve Stagebijeenk.', 11),\n",
       " ('Interv.pr.2 (KLOP): K&J', 11),\n",
       " ('Masterthese Kli. Ontw. Ps.', 10),\n",
       " ('Praktijkstage KLOP', 10),\n",
       " ('3 Casussen Ontw. psych.', 10),\n",
       " ('Diagn. 2 Ontw.Psych.', 7),\n",
       " ('Collect. Masterth.bijeenk.', 7),\n",
       " ('Practicum Sociale Cognitie', 5),\n",
       " ('Ev.-based Werken Kl.Prak.', 3),\n",
       " ('Antisoc Gedr  Kind.&Jeugd.', 2)]"
      ]
     },
     "execution_count": 12,
     "metadata": {},
     "output_type": "execute_result"
    }
   ],
   "source": [
    "print(str(len(grouped.get_group('Spec Clinical Developmental Ps'))) + ' students')\n",
    "dict1['Spec Clinical Developmental Ps'].most_common(10)"
   ]
  },
  {
   "cell_type": "markdown",
   "metadata": {},
   "source": [
    "#### Spec Psychological Methods "
   ]
  },
  {
   "cell_type": "code",
   "execution_count": 13,
   "metadata": {},
   "outputs": [
    {
     "name": "stdout",
     "output_type": "stream",
     "text": [
      "9 students\n"
     ]
    },
    {
     "data": {
      "text/plain": [
       "[('Masterthese Psy Methodenl.', 9),\n",
       " ('Masterstage Psy.Methodenl.', 9),\n",
       " ('Progr.sk..: R & Matlab', 6),\n",
       " ('Calculus', 5),\n",
       " ('Stage Methodologiewinkel', 5),\n",
       " ('LISREL', 4),\n",
       " ('Appl. Cont. Multivar. An.', 4),\n",
       " ('Scient. Writing/Presenting', 4),\n",
       " ('Methodological Advice', 3),\n",
       " ('Good Science, Bad Science', 2)]"
      ]
     },
     "execution_count": 13,
     "metadata": {},
     "output_type": "execute_result"
    }
   ],
   "source": [
    "print(str(len(grouped.get_group('Spec Psychological Methods'))) + ' students')\n",
    "dict1['Spec Psychological Methods'].most_common(10)"
   ]
  },
  {
   "cell_type": "markdown",
   "metadata": {},
   "source": [
    "## Deducing Mandatory Courses (POST 2014)"
   ]
  },
  {
   "cell_type": "code",
   "execution_count": 16,
   "metadata": {},
   "outputs": [],
   "source": [
    "os.chdir('C:\\\\Users\\\\yeachan153\\\\Desktop\\\\Methodology-Consulting\\\\Project')\n",
    "data = pd.read_csv('Master Dataframe.csv')\n",
    "data = data[data['Description'] == 'M Psychologie']\n",
    "data['Start Date'] = data['Start Date'].apply(to_strptime)\n",
    "\n",
    "filter_14 = datetime.strptime('2014-09-01', \"%Y-%m-%d\")\n",
    "data = data[data['Start Date'] >= filter_14]\n",
    "\n",
    "unique_spec = list(set(data['Specialisation']))\n",
    "unique_spec = list(filter(lambda x: str(x) != 'nan', unique_spec))\n",
    "dict1 = {}\n",
    "grouped = data.groupby('Specialisation')\n",
    "\n",
    "for each_specialisation in unique_spec:\n",
    "    current_spec = grouped.get_group(each_specialisation)\n",
    "    dict1[each_specialisation] = Counter()\n",
    "    for idx, row in current_spec.iterrows():\n",
    "        courses_taken_grades = row.iloc[14:][row.iloc[14:].notnull()]\n",
    "        courses_taken = list(set(courses_taken_grades.index))\n",
    "        for each_course in courses_taken:\n",
    "            dict1[each_specialisation].update([each_course])"
   ]
  },
  {
   "cell_type": "markdown",
   "metadata": {},
   "source": [
    "#### Spec Work & Organ. Psychology "
   ]
  },
  {
   "cell_type": "code",
   "execution_count": 17,
   "metadata": {},
   "outputs": [
    {
     "name": "stdout",
     "output_type": "stream",
     "text": [
      "72 students\n"
     ]
    },
    {
     "data": {
      "text/plain": [
       "[('Mastertheseconcept A&O', 72),\n",
       " ('Masterthese A&O', 72),\n",
       " ('Masterstage A&O', 66),\n",
       " ('Conflict en Coöperatie', 49),\n",
       " ('Schr./Onderz./An./Pres', 42),\n",
       " ('Creativiteit in Organisaties', 36),\n",
       " ('MAPS', 30),\n",
       " ('Beoord. & Besliss. in Org.', 29),\n",
       " ('Adviesvaardigheden', 29),\n",
       " ('Pros. gedrag in werkrelat.', 26)]"
      ]
     },
     "execution_count": 17,
     "metadata": {},
     "output_type": "execute_result"
    }
   ],
   "source": [
    "print(str(len(grouped.get_group('Spec Work & Organ. Psychology'))) + ' students')\n",
    "dict1['Spec Work & Organ. Psychology'].most_common(10)"
   ]
  },
  {
   "cell_type": "markdown",
   "metadata": {},
   "source": [
    "#### Spec Social Psychology"
   ]
  },
  {
   "cell_type": "code",
   "execution_count": 18,
   "metadata": {},
   "outputs": [
    {
     "name": "stdout",
     "output_type": "stream",
     "text": [
      "71 students\n"
     ]
    },
    {
     "data": {
      "text/plain": [
       "[('Masterstage Sociale Psych.', 70),\n",
       " ('Masterthese Sociale Psych.', 70),\n",
       " ('Emotionele Beïnvloeding', 68),\n",
       " ('Recl.VL&Con', 63),\n",
       " ('Ontwikkelen en Ev. v. Int.', 62),\n",
       " ('Mastertheseconcept SP', 61),\n",
       " ('Meting van Attitudes & Gedrag', 55),\n",
       " ('Psychology of Migration', 16),\n",
       " ('Wetens. en Stat. Redeneren', 16),\n",
       " ('Cult.Psy: Emo, Cult & Lang', 14)]"
      ]
     },
     "execution_count": 18,
     "metadata": {},
     "output_type": "execute_result"
    }
   ],
   "source": [
    "print(str(len(grouped.get_group('Spec Social Psychology'))) + ' students')\n",
    "dict1['Spec Social Psychology'].most_common(10)"
   ]
  },
  {
   "cell_type": "markdown",
   "metadata": {},
   "source": [
    "#### Track Sport & Performance Psy"
   ]
  },
  {
   "cell_type": "code",
   "execution_count": 19,
   "metadata": {},
   "outputs": [
    {
     "name": "stdout",
     "output_type": "stream",
     "text": [
      "33 students\n"
     ]
    },
    {
     "data": {
      "text/plain": [
       "[('Onderz. Sport & Prest.Ps.', 33),\n",
       " ('Talent, Expertise & Creat.', 33),\n",
       " ('Verdieping Sport/Prest. Psyc', 33),\n",
       " ('Interv. Sport & Prest.Psy', 33),\n",
       " ('Masterstage Sport & Prestati', 31),\n",
       " ('Masterthese Sport & P.', 22),\n",
       " ('Mastertheseconcept KLOP', 17),\n",
       " ('Mastertheseconcept A&O', 8),\n",
       " ('Masterthese A&O', 7),\n",
       " ('Masterstage A&O', 3)]"
      ]
     },
     "execution_count": 19,
     "metadata": {},
     "output_type": "execute_result"
    }
   ],
   "source": [
    "print(str(len(grouped.get_group('Track Sport & Performance Psy'))) + ' students')\n",
    "dict1['Track Sport & Performance Psy'].most_common(10)"
   ]
  },
  {
   "cell_type": "markdown",
   "metadata": {},
   "source": [
    "#### Track Training & Development"
   ]
  },
  {
   "cell_type": "code",
   "execution_count": 23,
   "metadata": {},
   "outputs": [
    {
     "name": "stdout",
     "output_type": "stream",
     "text": [
      "26 students\n"
     ]
    },
    {
     "data": {
      "text/plain": [
       "[('Trainerspracticum', 26),\n",
       " ('Ontwikk. van Trainingen', 25),\n",
       " ('Masterstage T&D', 23),\n",
       " ('Literatuuropdracht T&D', 15),\n",
       " ('Masterthese Sociale Psych.', 15),\n",
       " ('Mastertheseconcept SP', 11),\n",
       " ('Ontwikkelen en Ev. v. Int.', 6),\n",
       " ('Masterthese Training & Devel', 5),\n",
       " ('Emotionele Beïnvloeding', 5),\n",
       " ('Conflict en Coöperatie', 4)]"
      ]
     },
     "execution_count": 23,
     "metadata": {},
     "output_type": "execute_result"
    }
   ],
   "source": [
    "print(str(len(grouped.get_group('Track Training & Development'))) + ' students')\n",
    "dict1['Track Training & Development'].most_common(10)"
   ]
  },
  {
   "cell_type": "markdown",
   "metadata": {},
   "source": [
    "#### Track Behaviour & Health"
   ]
  },
  {
   "cell_type": "code",
   "execution_count": 26,
   "metadata": {},
   "outputs": [
    {
     "name": "stdout",
     "output_type": "stream",
     "text": [
      "25 students\n"
     ]
    },
    {
     "data": {
      "text/plain": [
       "[('Doelen en Verleidingen', 25),\n",
       " ('Determinanten van Gez.', 25),\n",
       " ('Onderz.meth. Gezondheidsgedrag', 25),\n",
       " ('Masterstage Gedr. & Gez.', 25),\n",
       " ('Gezondheidsbevordering & Inter', 25),\n",
       " ('Masterthese Gedr. & Gez.', 21),\n",
       " ('Mastertheseconcept GG', 12),\n",
       " ('Mastertheseconcept SP', 5),\n",
       " ('Masterthese Sociale Psych.', 2),\n",
       " ('Wetens. en Stat. Redeneren', 2)]"
      ]
     },
     "execution_count": 26,
     "metadata": {},
     "output_type": "execute_result"
    }
   ],
   "source": [
    "print(str(len(grouped.get_group('Track Behaviour & Health'))) + ' students')\n",
    "dict1['Track Behaviour & Health'].most_common(10)"
   ]
  },
  {
   "cell_type": "markdown",
   "metadata": {},
   "source": [
    "#### Spec Brain & Cognition"
   ]
  },
  {
   "cell_type": "code",
   "execution_count": 28,
   "metadata": {},
   "outputs": [
    {
     "name": "stdout",
     "output_type": "stream",
     "text": [
      "11 students\n"
     ]
    },
    {
     "data": {
      "text/plain": [
       "[('Masterthese Brein & Cognitie', 11),\n",
       " ('Masterstage Brein & Cognitie', 11),\n",
       " ('Adv. Topics Cogn. Neurosc.', 9),\n",
       " ('Mastertheseconcept B&C', 8),\n",
       " ('Toegep. Cognitieve Psych.', 6),\n",
       " ('Psychofarmacologie', 4),\n",
       " ('Basic Affective Processes', 3),\n",
       " ('NeuroImaging 1', 3),\n",
       " ('Sleep Cognition', 3),\n",
       " ('Connectionistic Models', 3)]"
      ]
     },
     "execution_count": 28,
     "metadata": {},
     "output_type": "execute_result"
    }
   ],
   "source": [
    "print(str(len(grouped.get_group('Spec Brain & Cognition'))) + ' students')\n",
    "dict1['Spec Brain & Cognition'].most_common(10)"
   ]
  },
  {
   "cell_type": "markdown",
   "metadata": {},
   "source": [
    "#### General Psychology"
   ]
  },
  {
   "cell_type": "code",
   "execution_count": 37,
   "metadata": {},
   "outputs": [
    {
     "name": "stdout",
     "output_type": "stream",
     "text": [
      "9 students\n"
     ]
    },
    {
     "data": {
      "text/plain": [
       "[('Trainerspracticum', 7),\n",
       " ('Recl.VL&Con', 6),\n",
       " ('Ontwikk. van Trainingen', 6),\n",
       " ('Masterstage T&D', 6),\n",
       " ('Mastertheseconcept SP', 4),\n",
       " ('Masterthese Sociale Psych.', 4),\n",
       " ('Ontwikkelen en Ev. v. Int.', 4),\n",
       " ('Conflict en Coöperatie', 4),\n",
       " ('Emotionele Beïnvloeding', 3),\n",
       " ('Meting van Attitudes & Gedrag', 2)]"
      ]
     },
     "execution_count": 37,
     "metadata": {},
     "output_type": "execute_result"
    }
   ],
   "source": [
    "print(str(len(grouped.get_group('General Psychology'))) + ' students')\n",
    "dict1['General Psychology'].most_common(10)"
   ]
  },
  {
   "cell_type": "markdown",
   "metadata": {},
   "source": [
    "#### Spec Psychological Methods"
   ]
  },
  {
   "cell_type": "code",
   "execution_count": 36,
   "metadata": {},
   "outputs": [
    {
     "name": "stdout",
     "output_type": "stream",
     "text": [
      "2 students\n"
     ]
    },
    {
     "data": {
      "text/plain": [
       "[('Methodological Advice', 2),\n",
       " ('Masterstage Psy.Methodenl.', 2),\n",
       " ('Masterthese Psy Methodenl.', 2),\n",
       " ('Multivariate Analysis', 2),\n",
       " ('Good Science, Bad Science', 2),\n",
       " ('Big Data Analitics and Vis.', 1),\n",
       " ('Network Analysis', 1),\n",
       " ('Wetens. en Stat. Redeneren', 1)]"
      ]
     },
     "execution_count": 36,
     "metadata": {},
     "output_type": "execute_result"
    }
   ],
   "source": [
    "print(str(len(grouped.get_group('Spec Psychological Methods'))) + ' students')\n",
    "dict1['Spec Psychological Methods'].most_common(10)"
   ]
  }
 ],
 "metadata": {
  "kernelspec": {
   "display_name": "Python 3",
   "language": "python",
   "name": "python3"
  },
  "language_info": {
   "codemirror_mode": {
    "name": "ipython",
    "version": 3
   },
   "file_extension": ".py",
   "mimetype": "text/x-python",
   "name": "python",
   "nbconvert_exporter": "python",
   "pygments_lexer": "ipython3",
   "version": "3.6.4"
  }
 },
 "nbformat": 4,
 "nbformat_minor": 2
}
