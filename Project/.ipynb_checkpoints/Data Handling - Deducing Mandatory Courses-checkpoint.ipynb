{
 "cells": [
  {
   "cell_type": "markdown",
   "metadata": {},
   "source": [
    "# Deducing Mandatory Courses using most common courses per specialisation (Only MSc students since RMes student specialisations are not recorded)"
   ]
  },
  {
   "cell_type": "markdown",
   "metadata": {},
   "source": [
    "## Importing libraries/custom functions/data"
   ]
  },
  {
   "cell_type": "code",
   "execution_count": 15,
   "metadata": {},
   "outputs": [],
   "source": [
    "import os\n",
    "import pandas as pd\n",
    "import numpy as np\n",
    "import matplotlib.pyplot as plt\n",
    "import seaborn as sns\n",
    "from scipy import stats\n",
    "import copy\n",
    "from datetime import datetime\n",
    "import itertools\n",
    "from collections import Counter\n",
    "\n",
    "def to_strptime(string):\n",
    "    try:\n",
    "        return datetime.strptime(string, \"%Y-%m-%d\")\n",
    "    except Exception as e:\n",
    "        print(e)\n",
    "\n",
    "os.chdir('C:\\\\Users\\\\yeachan153\\\\Desktop\\\\Methodology-Consulting\\\\Project')\n",
    "data = pd.read_csv('Master Dataframe.csv')\n",
    "data = data[data['Description'] == 'M Psychologie']"
   ]
  },
  {
   "cell_type": "markdown",
   "metadata": {},
   "source": [
    "## Deducing Mandatory Courses "
   ]
  },
  {
   "cell_type": "code",
   "execution_count": 16,
   "metadata": {},
   "outputs": [],
   "source": [
    "unique_spec = list(set(data['Specialisation']))\n",
    "unique_spec = list(filter(lambda x: str(x) != 'nan', unique_spec))\n",
    "dict1 = {}\n",
    "grouped = data.groupby('Specialisation')\n",
    "\n",
    "for each_specialisation in unique_spec:\n",
    "    current_spec = grouped.get_group(each_specialisation)\n",
    "    dict1[each_specialisation] = Counter()\n",
    "    for idx, row in current_spec.iterrows():\n",
    "        courses_taken_grades = row.iloc[14:][row.iloc[14:].notnull()]\n",
    "        courses_taken = list(set(courses_taken_grades.index))\n",
    "        for each_course in courses_taken:\n",
    "            dict1[each_specialisation].update([each_course])"
   ]
  },
  {
   "cell_type": "markdown",
   "metadata": {},
   "source": [
    "#### Spec Work & Organ. Psychology"
   ]
  },
  {
   "cell_type": "code",
   "execution_count": 17,
   "metadata": {},
   "outputs": [
    {
     "name": "stdout",
     "output_type": "stream",
     "text": [
      "215 students\n"
     ]
    },
    {
     "data": {
      "text/plain": [
       "[('Masterthese A&O', 211),\n",
       " ('Masterstage A&O', 204),\n",
       " ('Mastertheseconcept A&O', 190),\n",
       " ('Schr./Onderz./An./Pres', 171),\n",
       " ('Conflict en Coöperatie', 113),\n",
       " ('Creativiteit in Organisaties', 101),\n",
       " ('Adviesvaardigheden', 95),\n",
       " ('Beoord. & Besliss. in Org.', 84),\n",
       " ('Personeelsselectie', 70),\n",
       " ('Pros. gedrag in werkrelat.', 42)]"
      ]
     },
     "execution_count": 17,
     "metadata": {},
     "output_type": "execute_result"
    }
   ],
   "source": [
    "print(str(len(grouped.get_group('Spec Work & Organ. Psychology'))) + ' students')\n",
    "dict1['Spec Work & Organ. Psychology'].most_common(10)"
   ]
  },
  {
   "cell_type": "markdown",
   "metadata": {},
   "source": [
    "#### Spec Social Psychology"
   ]
  },
  {
   "cell_type": "code",
   "execution_count": 18,
   "metadata": {},
   "outputs": [
    {
     "name": "stdout",
     "output_type": "stream",
     "text": [
      "189 students\n"
     ]
    },
    {
     "data": {
      "text/plain": [
       "[('Masterthese Sociale Psych.', 185),\n",
       " ('Masterstage Sociale Psych.', 182),\n",
       " ('Recl.VL&Con', 150),\n",
       " ('Mastertheseconcept SP', 115),\n",
       " ('TSP2: Interventies', 78),\n",
       " ('Sociale psych. v. emoties', 78),\n",
       " ('Emotionele Beïnvloeding', 71),\n",
       " ('Ontwikkelen en Ev. v. Int.', 63),\n",
       " ('Meting van Attitudes & Gedrag', 58),\n",
       " ('Stereotypes, Prej & Discr', 43)]"
      ]
     },
     "execution_count": 18,
     "metadata": {},
     "output_type": "execute_result"
    }
   ],
   "source": [
    "print(str(len(grouped.get_group('Spec Social Psychology'))) + ' students')\n",
    "dict1['Spec Social Psychology'].most_common(10)"
   ]
  },
  {
   "cell_type": "markdown",
   "metadata": {},
   "source": [
    "#### Track Sport & Performance Psy"
   ]
  },
  {
   "cell_type": "code",
   "execution_count": 19,
   "metadata": {},
   "outputs": [
    {
     "name": "stdout",
     "output_type": "stream",
     "text": [
      "86 students\n"
     ]
    },
    {
     "data": {
      "text/plain": [
       "[('Talent, Expertise & Creat.', 86),\n",
       " ('Onderz. Sport & Prest.Ps.', 86),\n",
       " ('Interv. Sport & Prest.Psy', 85),\n",
       " ('Verdieping Sport/Prest. Psyc', 70),\n",
       " ('Mastertheseconcept KLOP', 40),\n",
       " ('Masterstage Ontw. Psych.', 37),\n",
       " ('Masterstage Sport & Prestati', 34),\n",
       " ('Masterthese Sport & P.', 23),\n",
       " ('Masterthese Ontw. Psych.', 22),\n",
       " ('Masterthese A&O', 21)]"
      ]
     },
     "execution_count": 19,
     "metadata": {},
     "output_type": "execute_result"
    }
   ],
   "source": [
    "print(str(len(grouped.get_group('Track Sport & Performance Psy'))) + ' students')\n",
    "dict1['Track Sport & Performance Psy'].most_common(10)"
   ]
  },
  {
   "cell_type": "markdown",
   "metadata": {},
   "source": [
    "#### General Psychology  "
   ]
  },
  {
   "cell_type": "code",
   "execution_count": 20,
   "metadata": {},
   "outputs": [
    {
     "name": "stdout",
     "output_type": "stream",
     "text": [
      "77 students\n"
     ]
    },
    {
     "data": {
      "text/plain": [
       "[('Collectieve Stagebijeenk.', 28),\n",
       " ('Masterthese Klin. Psy.', 24),\n",
       " ('Praktijkstage Klin. Psy.', 24),\n",
       " ('Pract. Klin.Psychodiagn.', 23),\n",
       " ('Trainerspracticum', 17),\n",
       " ('Ontwikk. van Trainingen', 16),\n",
       " ('Masterthese A&O', 16),\n",
       " ('Mastertheseconcept A&O', 13),\n",
       " ('Masterthese Sociale Psych.', 12),\n",
       " ('Masterstage Sociale Psych.', 12)]"
      ]
     },
     "execution_count": 20,
     "metadata": {},
     "output_type": "execute_result"
    }
   ],
   "source": [
    "print(str(len(grouped.get_group('General Psychology'))) + ' students')\n",
    "dict1['General Psychology'].most_common(10)"
   ]
  },
  {
   "cell_type": "markdown",
   "metadata": {},
   "source": [
    "#### Track Training & Development "
   ]
  },
  {
   "cell_type": "code",
   "execution_count": 21,
   "metadata": {},
   "outputs": [
    {
     "name": "stdout",
     "output_type": "stream",
     "text": [
      "68 students\n"
     ]
    },
    {
     "data": {
      "text/plain": [
       "[('Trainerspracticum', 67),\n",
       " ('Ontwikk. van Trainingen', 66),\n",
       " ('Masterthese Sociale Psych.', 45),\n",
       " ('Masterstage Sociale Psych.', 40),\n",
       " ('Masterstage T&D', 27),\n",
       " ('Mastertheseconcept SP', 23),\n",
       " ('Literatuuropdracht T&D', 18),\n",
       " ('Recl.VL&Con', 13),\n",
       " ('Adviesvaardigheden', 12),\n",
       " ('Conflict en Coöperatie', 12)]"
      ]
     },
     "execution_count": 21,
     "metadata": {},
     "output_type": "execute_result"
    }
   ],
   "source": [
    "print(str(len(grouped.get_group('Track Training & Development'))) + ' students')\n",
    "dict1['Track Training & Development'].most_common(10)"
   ]
  },
  {
   "cell_type": "markdown",
   "metadata": {},
   "source": [
    "#### Track Behaviour & Health"
   ]
  },
  {
   "cell_type": "code",
   "execution_count": 22,
   "metadata": {},
   "outputs": [
    {
     "name": "stdout",
     "output_type": "stream",
     "text": [
      "66 students\n"
     ]
    },
    {
     "data": {
      "text/plain": [
       "[('Masterstage Gedr. & Gez.', 62),\n",
       " ('Gezondheidsbevordering & Inter', 61),\n",
       " ('Masterthese Gedr. & Gez.', 54),\n",
       " ('Onderz.meth. Gezondheidsgedrag', 48),\n",
       " ('Mastertheseconcept GG', 37),\n",
       " ('Zelfregulatie Gez.gedrag', 33),\n",
       " ('Sociale Invl. Gez.gedrag', 33),\n",
       " ('Modellen van Gezondheidsgedrag', 33),\n",
       " ('Doelen en Verleidingen', 28),\n",
       " ('Determinanten van Gez.', 28)]"
      ]
     },
     "execution_count": 22,
     "metadata": {},
     "output_type": "execute_result"
    }
   ],
   "source": [
    "print(str(len(grouped.get_group('Track Behaviour & Health'))) + ' students')\n",
    "dict1['Track Behaviour & Health'].most_common(10)"
   ]
  },
  {
   "cell_type": "markdown",
   "metadata": {},
   "source": [
    "#### Spec Brain & Cognition"
   ]
  },
  {
   "cell_type": "code",
   "execution_count": 23,
   "metadata": {},
   "outputs": [
    {
     "name": "stdout",
     "output_type": "stream",
     "text": [
      "40 students\n"
     ]
    },
    {
     "data": {
      "text/plain": [
       "[('Masterstage Brein & Cognitie', 38),\n",
       " ('Masterthese Brein & Cognitie', 37),\n",
       " ('Mastertheseconcept B&C', 25),\n",
       " ('Adv. Topics Cogn. Neurosc.', 24),\n",
       " ('Psychofarmacologie', 18),\n",
       " ('Toegep. Cognitieve Psych.', 16),\n",
       " ('Psycho-endocrinologie', 14),\n",
       " ('Connectionistic Models', 11),\n",
       " ('Basic Affective Processes', 10),\n",
       " ('Slaap/Waak Stoornissen', 9)]"
      ]
     },
     "execution_count": 23,
     "metadata": {},
     "output_type": "execute_result"
    }
   ],
   "source": [
    "print(str(len(grouped.get_group('Spec Brain & Cognition'))) + ' students')\n",
    "dict1['Spec Brain & Cognition'].most_common(10)"
   ]
  },
  {
   "cell_type": "markdown",
   "metadata": {},
   "source": [
    "#### Track Clinical Forensic Psych"
   ]
  },
  {
   "cell_type": "code",
   "execution_count": 24,
   "metadata": {},
   "outputs": [
    {
     "name": "stdout",
     "output_type": "stream",
     "text": [
      "27 students\n"
     ]
    },
    {
     "data": {
      "text/plain": [
       "[('Praktijkstage Klin. Psy.', 26),\n",
       " ('Masterthese Klin. Psy.', 24),\n",
       " ('Collectieve Stagebijeenk.', 21),\n",
       " ('3 casussen Psychodiagn.', 17),\n",
       " ('Colloquia (master)', 16),\n",
       " ('Track Klin. For. Psy.', 14),\n",
       " ('St./Delictgedr: Behand.', 13),\n",
       " ('Stoorn./Delictgedr: Etiol.', 12),\n",
       " ('St.Delictg.: Ass./Risicot.', 12),\n",
       " ('Masterthese Kli. Ontw. Ps.', 2)]"
      ]
     },
     "execution_count": 24,
     "metadata": {},
     "output_type": "execute_result"
    }
   ],
   "source": [
    "print(str(len(grouped.get_group('Track Clinical Forensic Psych'))) + ' students')\n",
    "dict1['Track Clinical Forensic Psych'].most_common(10)"
   ]
  },
  {
   "cell_type": "markdown",
   "metadata": {},
   "source": [
    "#### Spec Clinical Psychology"
   ]
  },
  {
   "cell_type": "code",
   "execution_count": 25,
   "metadata": {},
   "outputs": [
    {
     "name": "stdout",
     "output_type": "stream",
     "text": [
      "20 students\n"
     ]
    },
    {
     "data": {
      "text/plain": [
       "[('Praktijkstage Klin. Psy.', 18),\n",
       " ('Collectieve Stagebijeenk.', 17),\n",
       " ('3 casussen Psychodiagn.', 15),\n",
       " ('Pract. Klin.Psychodiagn.', 14),\n",
       " ('Masterthese Klin. Psy.', 13),\n",
       " ('Psy. Interventies 2: Volw.', 8),\n",
       " ('Verslaving:Th./Behandeling', 6),\n",
       " ('Colloquia (master)', 5),\n",
       " ('Ps.Interv.2: relatie/gezin', 5),\n",
       " ('Masterthese Ontw. Psych.', 4)]"
      ]
     },
     "execution_count": 25,
     "metadata": {},
     "output_type": "execute_result"
    }
   ],
   "source": [
    "print(str(len(grouped.get_group('Spec Clinical Psychology'))) + ' students')\n",
    "dict1['Spec Clinical Psychology'].most_common(10)"
   ]
  },
  {
   "cell_type": "markdown",
   "metadata": {},
   "source": [
    "#### Spec Clinical Developmental Ps"
   ]
  },
  {
   "cell_type": "code",
   "execution_count": 26,
   "metadata": {},
   "outputs": [
    {
     "name": "stdout",
     "output_type": "stream",
     "text": [
      "12 students\n"
     ]
    },
    {
     "data": {
      "text/plain": [
       "[('Collectieve Stagebijeenk.', 11),\n",
       " ('Interv.pr.2 (KLOP): K&J', 11),\n",
       " ('3 Casussen Ontw. psych.', 10),\n",
       " ('Praktijkstage KLOP', 10),\n",
       " ('Masterthese Kli. Ontw. Ps.', 10),\n",
       " ('Diagn. 2 Ontw.Psych.', 7),\n",
       " ('Collect. Masterth.bijeenk.', 7),\n",
       " ('Practicum Sociale Cognitie', 5),\n",
       " ('Ev.-based Werken Kl.Prak.', 3),\n",
       " ('Antisoc Gedr  Kind.&Jeugd.', 2)]"
      ]
     },
     "execution_count": 26,
     "metadata": {},
     "output_type": "execute_result"
    }
   ],
   "source": [
    "print(str(len(grouped.get_group('Spec Clinical Developmental Ps'))) + ' students')\n",
    "dict1['Spec Clinical Developmental Ps'].most_common(10)"
   ]
  },
  {
   "cell_type": "markdown",
   "metadata": {},
   "source": [
    "#### Spec Psychological Methods "
   ]
  },
  {
   "cell_type": "code",
   "execution_count": 27,
   "metadata": {},
   "outputs": [
    {
     "name": "stdout",
     "output_type": "stream",
     "text": [
      "11 students\n"
     ]
    },
    {
     "data": {
      "text/plain": [
       "[('Masterthese Psy Methodenl.', 11),\n",
       " ('Masterstage Psy.Methodenl.', 11),\n",
       " ('Progr.sk..: R & Matlab', 6),\n",
       " ('Methodological Advice', 5),\n",
       " ('Calculus', 5),\n",
       " ('Stage Methodologiewinkel', 5),\n",
       " ('LISREL', 4),\n",
       " ('Good Science, Bad Science', 4),\n",
       " ('Scient. Writing/Presenting', 4),\n",
       " ('Appl. Cont. Multivar. An.', 4)]"
      ]
     },
     "execution_count": 27,
     "metadata": {},
     "output_type": "execute_result"
    }
   ],
   "source": [
    "print(str(len(grouped.get_group('Spec Psychological Methods'))) + ' students')\n",
    "dict1['Spec Psychological Methods'].most_common(10)"
   ]
  }
 ],
 "metadata": {
  "kernelspec": {
   "display_name": "Python 3",
   "language": "python",
   "name": "python3"
  },
  "language_info": {
   "codemirror_mode": {
    "name": "ipython",
    "version": 3
   },
   "file_extension": ".py",
   "mimetype": "text/x-python",
   "name": "python",
   "nbconvert_exporter": "python",
   "pygments_lexer": "ipython3",
   "version": "3.6.4"
  }
 },
 "nbformat": 4,
 "nbformat_minor": 2
}
