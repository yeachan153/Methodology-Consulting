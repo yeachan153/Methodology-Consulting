{
 "cells": [
  {
   "cell_type": "markdown",
   "metadata": {},
   "source": [
    "# Popular Courses (per track) and Thesis Grades in 1 Year Master Students"
   ]
  },
  {
   "cell_type": "markdown",
   "metadata": {},
   "source": [
    "## Importing libraries/setting up data"
   ]
  },
  {
   "cell_type": "code",
   "execution_count": 1,
   "metadata": {},
   "outputs": [],
   "source": [
    "import os\n",
    "import pandas as pd\n",
    "import numpy as np\n",
    "import matplotlib.pyplot as plt\n",
    "import seaborn as sns\n",
    "from scipy import stats\n",
    "import copy\n",
    "from datetime import datetime\n",
    "import itertools\n",
    "from collections import Counter\n",
    "\n",
    "def to_strptime(string):\n",
    "    try:\n",
    "        return datetime.strptime(string, \"%Y-%m-%d\")\n",
    "    except Exception as e:\n",
    "        print(e)\n",
    "\n",
    "os.chdir('C:\\\\Users\\\\yeachan153\\\\Desktop\\\\Methodology-Consulting\\\\Project')\n",
    "data = pd.read_csv('Master Dataframe.csv')\n",
    "data = data[data['Description'] == 'M Psychologie']\n",
    "data['Start Date'] = data['Start Date'].apply(to_strptime)\n",
    "\n",
    "filter_14 = datetime.strptime('2014-09-01', \"%Y-%m-%d\")\n",
    "\n",
    "pre_data = data[data['Start Date'] < filter_14]\n",
    "post_data = data[data['Start Date'] >= filter_14]"
   ]
  },
  {
   "cell_type": "markdown",
   "metadata": {},
   "source": [
    "## Analysis for Pre-2014 Students "
   ]
  },
  {
   "cell_type": "code",
   "execution_count": 23,
   "metadata": {},
   "outputs": [],
   "source": [
    "pre_filtercopy = copy.deepcopy(pre_data)\n",
    "groups = pre_filtercopy.groupby('Specialisation')"
   ]
  },
  {
   "cell_type": "markdown",
   "metadata": {},
   "source": [
    "#### Spec Work & Organ. Psychology"
   ]
  },
  {
   "cell_type": "code",
   "execution_count": 75,
   "metadata": {},
   "outputs": [
    {
     "name": "stdout",
     "output_type": "stream",
     "text": [
      "KstestResult(statistic=0.9999999990134123, pvalue=0.0)\n",
      "KstestResult(statistic=0.9999999999987201, pvalue=0.0)\n",
      "KstestResult(statistic=0.9999999990134123, pvalue=0.0)\n",
      "KstestResult(statistic=0.9999999990134123, pvalue=0.0)\n",
      "KstestResult(statistic=0.99999999995984, pvalue=0.0)\n",
      "KstestResult(statistic=0.9999999990134123, pvalue=0.0)\n"
     ]
    }
   ],
   "source": [
    "org = groups.get_group('Spec Work & Organ. Psychology')\n",
    "\n",
    "# Courses we are interested in:\n",
    "courses = ['Schr./Onderz./An./Pres', 'Adviesvaardigheden', 'Creativiteit in Organisaties', 'Conflict en Coöperatie', \n",
    "          'Beoord. & Besliss. in Org.', 'Personeelsselectie']\n",
    "\n",
    "dict1 = {}\n",
    "list_df = []\n",
    "for course in courses:\n",
    "    current_df = org[org[course].notnull()]\n",
    "    dict1[course] = stats.spearmanr(current_df['thesis_grades'], current_df[course])\n",
    "    list_df.append(current_df)"
   ]
  },
  {
   "cell_type": "code",
   "execution_count": 78,
   "metadata": {},
   "outputs": [
    {
     "name": "stdout",
     "output_type": "stream",
     "text": [
      "Spec Work & Organ. Psychology     143\n",
      "Spec Social Psychology            118\n",
      "General Psychology                 68\n",
      "Track Sport & Performance Psy      53\n",
      "Track Training & Development       42\n",
      "Track Behaviour & Health           41\n",
      "Spec Brain & Cognition             29\n",
      "Track Clinical Forensic Psych      27\n",
      "Spec Clinical Psychology           20\n",
      "Inactief T&D                       19\n",
      "Spec Clinical Developmental Ps     12\n",
      "Spec Psychological Methods          9\n",
      "Spec Developmental Psychology       6\n",
      "Spec Clinical Neuropsychology       4\n",
      "Psycho. Gedragsbeïnvloeding         1\n",
      "Name: Specialisation, dtype: int64\n",
      "Spec Work & Organ. Psychology    72\n",
      "Spec Social Psychology           71\n",
      "Track Sport & Performance Psy    33\n",
      "Track Training & Development     26\n",
      "Track Behaviour & Health         25\n",
      "Spec Brain & Cognition           11\n",
      "General Psychology                9\n",
      "Psycho. Gedragsbeïnvloeding       5\n",
      "Spec Psychological Methods        2\n",
      "Name: Specialisation, dtype: int64\n"
     ]
    }
   ],
   "source": [
    "print(pre_data['Specialisation'].value_counts().sort_values(ascending = False))\n",
    "print(post_data['Specialisation'].value_counts().sort_values(ascending = False))"
   ]
  },
  {
   "cell_type": "code",
   "execution_count": null,
   "metadata": {},
   "outputs": [],
   "source": [
    "title = ['Schr./Onderz./An./Pres vs. Thesis Grade','Adviesvaardighede vs. Thesis Grade',\n",
    "         'Creativiteit in Organisaties vs. Thesis Grade','Conflict en Coöperatie vs. Thesis Grade']\n",
    "text = ['rs = 0.309, p < 0.001, n = 129', 'rs = 0.0722, p = 0.564, n = 66', 'rs = -0.0248, p = 0.844, n = 65',\n",
    "       'rs = 0.190, p = 0.130, n = 64']\n",
    "\n",
    "fig = plt.figure(figsize = (45,35))\n",
    "for i in range(4):\n",
    "    ax = fig.add_subplot(2,2,i+1)\n",
    "    sns.regplot(list_df[i][courses[i]], list_df[i]['thesis_grades'], color = 'black', y_jitter = 0.05)\n",
    "    sns.set_style('darkgrid')\n",
    "    ax.set_title(title[i], fontsize = 35)\n",
    "    plt.xticks(fontsize = 25)\n",
    "    plt.yticks(fontsize = 25)\n",
    "    plt.xlabel('Grade on ' + courses[i], fontsize = 35)\n",
    "    plt.ylabel('Thesis Grade', fontsize = 35)\n",
    "    ax.set_ylim(5.3,10)\n",
    "    ax.set_xlim(6,10)\n",
    "    if i == 0:\n",
    "        ax.text(8.2, 5.5, text[i], fontsize = 35)\n",
    "    if i == 1:\n",
    "        ax.text(8.2, 5.5, text[i], fontsize = 35)\n",
    "    if i == 2:\n",
    "        ax.text(8.1, 5.5, text[i], fontsize = 35)\n",
    "    if i == 3:\n",
    "        ax.text(8.2, 5.5, text[i], fontsize = 35)"
   ]
  },
  {
   "cell_type": "code",
   "execution_count": null,
   "metadata": {},
   "outputs": [],
   "source": []
  }
 ],
 "metadata": {
  "kernelspec": {
   "display_name": "Python 3",
   "language": "python",
   "name": "python3"
  },
  "language_info": {
   "codemirror_mode": {
    "name": "ipython",
    "version": 3
   },
   "file_extension": ".py",
   "mimetype": "text/x-python",
   "name": "python",
   "nbconvert_exporter": "python",
   "pygments_lexer": "ipython3",
   "version": "3.6.4"
  }
 },
 "nbformat": 4,
 "nbformat_minor": 2
}
